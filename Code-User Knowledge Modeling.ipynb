{
 "cells": [
  {
   "cell_type": "markdown",
   "metadata": {},
   "source": [
    "# Project:User Knowledge Modeling\n",
    "\n",
    "- ***Estimation of students' knowledge status about the subject of Electrical DC Machines.***\n"
   ]
  },
  {
   "cell_type": "markdown",
   "metadata": {},
   "source": [
    "**Attribute Information:**\n",
    "\n",
    "- STG (The degree of study time for goal object materails), (input value) \n",
    "- SCG (The degree of repetition number of user for goal object materails) (input value) \n",
    "- STR (The degree of study time of user for related objects with goal object) (input value) \n",
    "- LPR (The exam performance of user for related objects with goal object) (input value) \n",
    "- PEG (The exam performance of user for goal objects) (input value) \n",
    "- UNS (The knowledge level of user) (target value) \n",
    "  - Very Low: 50 \n",
    "  - Low:129 \n",
    "  - Middle: 122 \n",
    "  - High 130"
   ]
  },
  {
   "cell_type": "markdown",
   "metadata": {},
   "source": [
    "**Abstract:**\n",
    "\n",
    "We develop a statistical machine learning framework to study the effect of eight input variables (relative compactness, surface area, wall area, roof area, overall height, orientation, glazing area, glazing area distribution) on two output variables, namely heating load (HL) and cooling load (CL), of residential buildings. We systematically investigate the association strength of each input variable with each of the output variables using a variety of classical and non-parametric statistical analysis tools, in order to identify the most strongly related input variables. Then, we compare a classical linear regression approach against a powerful state of the art nonlinear non-parametric method, random forests, to estimate HL and CL. Extensive simulations on 768 diverse residential buildings show that we can predict HL and CL with low mean absolute error deviations from the ground truth which is established using Ecotect (0.51 and 1.42, respectively). The results of this study support the feasibility of using machine learning tools to estimate building parameters as a convenient and accurate approach, as long as the requested query bears resemblance to the data actually used to train the mathematical model in the first place."
   ]
  },
  {
   "cell_type": "code",
   "execution_count": 1,
   "metadata": {},
   "outputs": [],
   "source": [
    "import numpy as np\n",
    "import pandas as pd\n",
    "import matplotlib.pyplot as plt\n",
    "%matplotlib inline\n",
    "import cv2"
   ]
  },
  {
   "cell_type": "code",
   "execution_count": 2,
   "metadata": {},
   "outputs": [],
   "source": [
    "import seaborn as sns"
   ]
  },
  {
   "cell_type": "code",
   "execution_count": 3,
   "metadata": {},
   "outputs": [
    {
     "data": {
      "text/html": [
       "<div>\n",
       "<style scoped>\n",
       "    .dataframe tbody tr th:only-of-type {\n",
       "        vertical-align: middle;\n",
       "    }\n",
       "\n",
       "    .dataframe tbody tr th {\n",
       "        vertical-align: top;\n",
       "    }\n",
       "\n",
       "    .dataframe thead th {\n",
       "        text-align: right;\n",
       "    }\n",
       "</style>\n",
       "<table border=\"1\" class=\"dataframe\">\n",
       "  <thead>\n",
       "    <tr style=\"text-align: right;\">\n",
       "      <th></th>\n",
       "      <th>STG</th>\n",
       "      <th>SCG</th>\n",
       "      <th>STR</th>\n",
       "      <th>LPR</th>\n",
       "      <th>PEG</th>\n",
       "      <th>UNS</th>\n",
       "    </tr>\n",
       "  </thead>\n",
       "  <tbody>\n",
       "    <tr>\n",
       "      <th>0</th>\n",
       "      <td>0.00</td>\n",
       "      <td>0.00</td>\n",
       "      <td>0.00</td>\n",
       "      <td>0.00</td>\n",
       "      <td>0.00</td>\n",
       "      <td>0</td>\n",
       "    </tr>\n",
       "    <tr>\n",
       "      <th>1</th>\n",
       "      <td>0.08</td>\n",
       "      <td>0.08</td>\n",
       "      <td>0.10</td>\n",
       "      <td>0.24</td>\n",
       "      <td>0.90</td>\n",
       "      <td>0</td>\n",
       "    </tr>\n",
       "    <tr>\n",
       "      <th>2</th>\n",
       "      <td>0.06</td>\n",
       "      <td>0.06</td>\n",
       "      <td>0.05</td>\n",
       "      <td>0.25</td>\n",
       "      <td>0.33</td>\n",
       "      <td>0</td>\n",
       "    </tr>\n",
       "    <tr>\n",
       "      <th>3</th>\n",
       "      <td>0.10</td>\n",
       "      <td>0.10</td>\n",
       "      <td>0.15</td>\n",
       "      <td>0.65</td>\n",
       "      <td>0.30</td>\n",
       "      <td>0</td>\n",
       "    </tr>\n",
       "    <tr>\n",
       "      <th>4</th>\n",
       "      <td>0.08</td>\n",
       "      <td>0.08</td>\n",
       "      <td>0.08</td>\n",
       "      <td>0.98</td>\n",
       "      <td>0.24</td>\n",
       "      <td>0</td>\n",
       "    </tr>\n",
       "  </tbody>\n",
       "</table>\n",
       "</div>"
      ],
      "text/plain": [
       "    STG   SCG   STR   LPR   PEG  UNS\n",
       "0  0.00  0.00  0.00  0.00  0.00    0\n",
       "1  0.08  0.08  0.10  0.24  0.90    0\n",
       "2  0.06  0.06  0.05  0.25  0.33    0\n",
       "3  0.10  0.10  0.15  0.65  0.30    0\n",
       "4  0.08  0.08  0.08  0.98  0.24    0"
      ]
     },
     "execution_count": 3,
     "metadata": {},
     "output_type": "execute_result"
    }
   ],
   "source": [
    "dataset=pd.read_excel('Book1.xlsx')\n",
    "dataset.columns=['STG','SCG','STR','LPR','PEG','UNS']\n",
    "dataset.head()"
   ]
  },
  {
   "cell_type": "code",
   "execution_count": 4,
   "metadata": {},
   "outputs": [
    {
     "name": "stdout",
     "output_type": "stream",
     "text": [
      "<class 'pandas.core.frame.DataFrame'>\n",
      "RangeIndex: 258 entries, 0 to 257\n",
      "Data columns (total 6 columns):\n",
      "STG    258 non-null float64\n",
      "SCG    258 non-null float64\n",
      "STR    258 non-null float64\n",
      "LPR    258 non-null float64\n",
      "PEG    258 non-null float64\n",
      "UNS    258 non-null int64\n",
      "dtypes: float64(5), int64(1)\n",
      "memory usage: 12.2 KB\n"
     ]
    }
   ],
   "source": [
    "dataset.info()"
   ]
  },
  {
   "cell_type": "markdown",
   "metadata": {},
   "source": [
    ">**Data Preprocessing**\n",
    " - Categorical Data\n",
    " - Label Encoder\n"
   ]
  },
  {
   "cell_type": "code",
   "execution_count": 5,
   "metadata": {},
   "outputs": [],
   "source": [
    "from sklearn.preprocessing import LabelEncoder\n",
    "le=LabelEncoder()"
   ]
  },
  {
   "cell_type": "code",
   "execution_count": 6,
   "metadata": {},
   "outputs": [
    {
     "data": {
      "text/html": [
       "<div>\n",
       "<style scoped>\n",
       "    .dataframe tbody tr th:only-of-type {\n",
       "        vertical-align: middle;\n",
       "    }\n",
       "\n",
       "    .dataframe tbody tr th {\n",
       "        vertical-align: top;\n",
       "    }\n",
       "\n",
       "    .dataframe thead th {\n",
       "        text-align: right;\n",
       "    }\n",
       "</style>\n",
       "<table border=\"1\" class=\"dataframe\">\n",
       "  <thead>\n",
       "    <tr style=\"text-align: right;\">\n",
       "      <th></th>\n",
       "      <th>STG</th>\n",
       "      <th>SCG</th>\n",
       "      <th>STR</th>\n",
       "      <th>LPR</th>\n",
       "      <th>PEG</th>\n",
       "      <th>UNS</th>\n",
       "    </tr>\n",
       "  </thead>\n",
       "  <tbody>\n",
       "    <tr>\n",
       "      <th>0</th>\n",
       "      <td>0.00</td>\n",
       "      <td>0.00</td>\n",
       "      <td>0.00</td>\n",
       "      <td>0.00</td>\n",
       "      <td>0.00</td>\n",
       "      <td>0</td>\n",
       "    </tr>\n",
       "    <tr>\n",
       "      <th>1</th>\n",
       "      <td>0.08</td>\n",
       "      <td>0.08</td>\n",
       "      <td>0.10</td>\n",
       "      <td>0.24</td>\n",
       "      <td>0.90</td>\n",
       "      <td>0</td>\n",
       "    </tr>\n",
       "    <tr>\n",
       "      <th>2</th>\n",
       "      <td>0.06</td>\n",
       "      <td>0.06</td>\n",
       "      <td>0.05</td>\n",
       "      <td>0.25</td>\n",
       "      <td>0.33</td>\n",
       "      <td>0</td>\n",
       "    </tr>\n",
       "    <tr>\n",
       "      <th>3</th>\n",
       "      <td>0.10</td>\n",
       "      <td>0.10</td>\n",
       "      <td>0.15</td>\n",
       "      <td>0.65</td>\n",
       "      <td>0.30</td>\n",
       "      <td>0</td>\n",
       "    </tr>\n",
       "    <tr>\n",
       "      <th>4</th>\n",
       "      <td>0.08</td>\n",
       "      <td>0.08</td>\n",
       "      <td>0.08</td>\n",
       "      <td>0.98</td>\n",
       "      <td>0.24</td>\n",
       "      <td>0</td>\n",
       "    </tr>\n",
       "  </tbody>\n",
       "</table>\n",
       "</div>"
      ],
      "text/plain": [
       "    STG   SCG   STR   LPR   PEG  UNS\n",
       "0  0.00  0.00  0.00  0.00  0.00    0\n",
       "1  0.08  0.08  0.10  0.24  0.90    0\n",
       "2  0.06  0.06  0.05  0.25  0.33    0\n",
       "3  0.10  0.10  0.15  0.65  0.30    0\n",
       "4  0.08  0.08  0.08  0.98  0.24    0"
      ]
     },
     "execution_count": 6,
     "metadata": {},
     "output_type": "execute_result"
    }
   ],
   "source": [
    "dataset['UNS']=le.fit_transform(dataset['UNS'])\n",
    "dataset.head()"
   ]
  },
  {
   "cell_type": "code",
   "execution_count": 7,
   "metadata": {},
   "outputs": [
    {
     "data": {
      "image/png": "[encoded data removed]",
      "text/plain": [
       "<Figure size 720x288 with 2 Axes>"
      ]
     },
     "metadata": {},
     "output_type": "display_data"
    }
   ],
   "source": [
    "corr=dataset.corr()\n",
    "plt.figure(figsize=(10,4))\n",
    "sns.heatmap(corr,annot=True,cmap='summer')\n",
    "plt.show()"
   ]
  },
  {
   "cell_type": "code",
   "execution_count": 8,
   "metadata": {},
   "outputs": [
    {
     "data": {
      "text/plain": [
       "((258, 5), (258,))"
      ]
     },
     "execution_count": 8,
     "metadata": {},
     "output_type": "execute_result"
    }
   ],
   "source": [
    "x=dataset.iloc[:,0:5].values # Independant variables\n",
    "y=dataset.iloc[:,-1].values #dependant variables\n",
    "x.shape,y.shape"
   ]
  },
  {
   "cell_type": "code",
   "execution_count": 9,
   "metadata": {},
   "outputs": [
    {
     "name": "stdout",
     "output_type": "stream",
     "text": [
      "[[0.   0.   0.   0.   0.  ]\n",
      " [0.08 0.08 0.1  0.24 0.9 ]\n",
      " [0.06 0.06 0.05 0.25 0.33]\n",
      " ...\n",
      " [0.54 0.82 0.71 0.29 0.77]\n",
      " [0.5  0.75 0.81 0.61 0.26]\n",
      " [0.66 0.9  0.76 0.87 0.74]]\n"
     ]
    }
   ],
   "source": [
    "print(x)"
   ]
  },
  {
   "cell_type": "markdown",
   "metadata": {},
   "source": [
    ">**Feature Scaling**\n",
    "- Standard Scaler\n",
    "- Min Max Scaler"
   ]
  },
  {
   "cell_type": "code",
   "execution_count": 10,
   "metadata": {},
   "outputs": [],
   "source": [
    "from sklearn.preprocessing import  StandardScaler,MinMaxScaler\n",
    "sc=StandardScaler() #z-score\n",
    "mms=MinMaxScaler() #(0-1)->normalisation"
   ]
  },
  {
   "cell_type": "code",
   "execution_count": 11,
   "metadata": {},
   "outputs": [],
   "source": [
    "x_sc =sc.fit_transform(x)\n",
    "x_norm=mms.fit_transform(x)"
   ]
  },
  {
   "cell_type": "code",
   "execution_count": 12,
   "metadata": {},
   "outputs": [
    {
     "data": {
      "image/png": "[encoded data removed]",
      "text/plain": [
       "<Figure size 720x288 with 1 Axes>"
      ]
     },
     "metadata": {},
     "output_type": "display_data"
    },
    {
     "data": {
      "image/png": "[encoded data removed]",
      "text/plain": [
       "<Figure size 720x288 with 1 Axes>"
      ]
     },
     "metadata": {},
     "output_type": "display_data"
    },
    {
     "data": {
      "image/png": "[encoded data removed]",
      "text/plain": [
       "<Figure size 720x288 with 1 Axes>"
      ]
     },
     "metadata": {},
     "output_type": "display_data"
    }
   ],
   "source": [
    "fig=plt.figure(figsize=(10,4))\n",
    "plt.style.use('bmh')\n",
    "\n",
    "# Without scaling\n",
    "plt.boxplot(x,vert=False,labels=['STG','SCG','STR','LPR','PEG'],patch_artist=True)\n",
    "plt.title('Without Scaling')\n",
    "plt.show()\n",
    "\n",
    "# Normalisation\n",
    "fig=plt.figure(figsize=(10,4))\n",
    "plt.boxplot(x_norm,vert=False,labels=['STG','SCG','STR','LPR','PEG'],patch_artist=True)\n",
    "plt.title('Normalisation(0-1)')\n",
    "plt.show()\n",
    "\n",
    "# Standard scaling\n",
    "fig=plt.figure(figsize=(10,4))\n",
    "plt.boxplot(x_sc,vert=False,labels=['STG','SCG','STR','LPR','PEG'],patch_artist=True)\n",
    "plt.title('Standard Scaling(Z-score)')\n",
    "plt.show()\n",
    "\n"
   ]
  },
  {
   "cell_type": "markdown",
   "metadata": {},
   "source": [
    "fig=plt.figure(figsize=(8,6))\n",
    "plt.scatter(x[:,0],x[:,1],c=y)\n",
    "\n",
    "\n",
    "plt.xlabel('Sepal Width') , plt.ylabel('Petal Width')\n",
    "plt.show()"
   ]
  },
  {
   "cell_type": "code",
   "execution_count": 13,
   "metadata": {},
   "outputs": [
    {
     "name": "stderr",
     "output_type": "stream",
     "text": [
      "C:\\Program Files\\Anaconda\\lib\\site-packages\\sklearn\\cross_validation.py:41: DeprecationWarning: This module was deprecated in version 0.18 in favor of the model_selection module into which all the refactored classes and functions are moved. Also note that the interface of the new CV iterators are different from that of this module. This module will be removed in 0.20.\n",
      "  \"This module will be removed in 0.20.\", DeprecationWarning)\n"
     ]
    },
    {
     "data": {
      "text/plain": [
       "((206, 5), (206,), (52, 5), (52,))"
      ]
     },
     "execution_count": 13,
     "metadata": {},
     "output_type": "execute_result"
    }
   ],
   "source": [
    "from sklearn.cross_validation import train_test_split\n",
    "x_train,x_test,y_train,y_test=train_test_split(x_sc,y,test_size=0.2,random_state=0)\n",
    "x_train.shape,y_train.shape,x_test.shape,y_test.shape"
   ]
  },
  {
   "cell_type": "markdown",
   "metadata": {},
   "source": [
    ">**Building machine learning model**\n",
    "- LogisticRegression\n",
    "- KNeighborsClassifier\n",
    "- Support Vector Machine\n",
    "- DecisionTreeClassifier\n",
    "- RandomForestClassifier\n"
   ]
  },
  {
   "cell_type": "code",
   "execution_count": 14,
   "metadata": {},
   "outputs": [],
   "source": [
    "from sklearn.linear_model import LogisticRegression\n",
    "from sklearn.neighbors import KNeighborsClassifier\n",
    "from sklearn.svm import SVC\n",
    "from sklearn.tree import DecisionTreeClassifier\n",
    "from sklearn.ensemble import RandomForestClassifier"
   ]
  },
  {
   "cell_type": "code",
   "execution_count": 15,
   "metadata": {},
   "outputs": [],
   "source": [
    "model_log= LogisticRegression(C=10.0) # class\n",
    "model_knn= KNeighborsClassifier(n_neighbors=3)\n",
    "model_svm= SVC(kernel='rbf')\n",
    "model_dt= DecisionTreeClassifier()\n",
    "model_rf= RandomForestClassifier(n_estimators=100)"
   ]
  },
  {
   "cell_type": "code",
   "execution_count": 16,
   "metadata": {},
   "outputs": [
    {
     "name": "stdout",
     "output_type": "stream",
     "text": [
      "Model trained successfully\n"
     ]
    }
   ],
   "source": [
    "model_log.fit(x_train,y_train)\n",
    "model_knn.fit(x_train,y_train)\n",
    "model_svm.fit(x_train,y_train)\n",
    "model_dt.fit(x_train,y_train)\n",
    "model_rf.fit(x_train,y_train)\n",
    "print('Model trained successfully')"
   ]
  },
  {
   "cell_type": "markdown",
   "metadata": {},
   "source": [
    "> Model Evaluation(How good is my model)\n",
    "- Confusion Matrix\n",
    "- Classification Report"
   ]
  },
  {
   "cell_type": "code",
   "execution_count": 17,
   "metadata": {},
   "outputs": [],
   "source": [
    "y_pred_log=model_log.predict(x_test)\n",
    "y_pred_knn=model_knn.predict(x_test)\n",
    "y_pred_svm=model_svm.predict(x_test)\n",
    "y_pred_dt=model_dt.predict(x_test)\n",
    "y_pred_rf=model_rf.predict(x_test)"
   ]
  },
  {
   "cell_type": "code",
   "execution_count": 18,
   "metadata": {},
   "outputs": [],
   "source": [
    "from sklearn.metrics import confusion_matrix,classification_report"
   ]
  },
  {
   "cell_type": "code",
   "execution_count": 19,
   "metadata": {},
   "outputs": [],
   "source": [
    "cm_log= confusion_matrix(y_test,y_pred_log)\n",
    "cm_knn= confusion_matrix(y_test,y_pred_knn)\n",
    "cm_svm= confusion_matrix(y_test,y_pred_svm)\n",
    "cm_dt= confusion_matrix(y_test,y_pred_dt)\n",
    "cm_rf= confusion_matrix(y_test,y_pred_rf)"
   ]
  },
  {
   "cell_type": "code",
   "execution_count": 20,
   "metadata": {
    "scrolled": true
   },
   "outputs": [
    {
     "data": {
      "image/png": "[encoded data removed]",
      "text/plain": [
       "<Figure size 2160x1296 with 10 Axes>"
      ]
     },
     "metadata": {},
     "output_type": "display_data"
    }
   ],
   "source": [
    "fig=plt.figure(figsize=(30,18))\n",
    "\n",
    "plt.subplot(2,3,1)\n",
    "sns.heatmap(cm_log,annot=True,cmap='summer')\n",
    "plt.title('Logistic Regression')\n",
    "\n",
    "plt.subplot(2,3,2)\n",
    "sns.heatmap(cm_knn,annot=True,cmap='ocean')\n",
    "plt.title('K Nearest Neighbor ')\n",
    "\n",
    "plt.subplot(2,3,3)\n",
    "sns.heatmap(cm_svm,annot=True,cmap='brg',)\n",
    "plt.title('Support Vector Machine')\n",
    "\n",
    "plt.subplot(2,3,4)\n",
    "sns.heatmap(cm_dt,annot=True,cmap='jet',)\n",
    "plt.title('Decision Tree')\n",
    "\n",
    "plt.subplot(2,3,5)\n",
    "sns.heatmap(cm_rf,annot=True,cmap='gnuplot',)\n",
    "plt.title('Random Forest Tree')\n",
    "plt.show()"
   ]
  },
  {
   "cell_type": "code",
   "execution_count": 21,
   "metadata": {},
   "outputs": [],
   "source": [
    "cr_log=classification_report(y_test,y_pred_log)\n",
    "cr_knn=classification_report(y_test,y_pred_knn)\n",
    "cr_svm=classification_report(y_test,y_pred_svm)\n",
    "cr_dt=classification_report(y_test,y_pred_dt)\n",
    "cr_rf=classification_report(y_test,y_pred_rf)"
   ]
  },
  {
   "cell_type": "code",
   "execution_count": 22,
   "metadata": {},
   "outputs": [
    {
     "name": "stdout",
     "output_type": "stream",
     "text": [
      "********************Logistic Regression********************\n",
      "             precision    recall  f1-score   support\n",
      "\n",
      "          0       1.00      0.20      0.33         5\n",
      "          1       0.46      1.00      0.63        11\n",
      "          2       1.00      0.50      0.67        24\n",
      "          3       0.80      1.00      0.89        12\n",
      "\n",
      "avg / total       0.84      0.69      0.68        52\n",
      "\n",
      "********************K Nearest Neighbor********************\n",
      "             precision    recall  f1-score   support\n",
      "\n",
      "          0       0.50      0.40      0.44         5\n",
      "          1       0.32      0.55      0.40        11\n",
      "          2       0.79      0.62      0.70        24\n",
      "          3       1.00      0.83      0.91        12\n",
      "\n",
      "avg / total       0.71      0.63      0.66        52\n",
      "\n",
      "********************Support Vector Machine********************\n",
      "             precision    recall  f1-score   support\n",
      "\n",
      "          0       1.00      0.20      0.33         5\n",
      "          1       0.53      0.82      0.64        11\n",
      "          2       0.86      0.79      0.83        24\n",
      "          3       0.92      0.92      0.92        12\n",
      "\n",
      "avg / total       0.82      0.77      0.76        52\n",
      "\n",
      "********************Decision tree********************\n",
      "             precision    recall  f1-score   support\n",
      "\n",
      "          0       0.71      1.00      0.83         5\n",
      "          1       0.67      0.73      0.70        11\n",
      "          2       0.95      0.79      0.86        24\n",
      "          3       0.92      1.00      0.96        12\n",
      "\n",
      "avg / total       0.86      0.85      0.85        52\n",
      "\n",
      "********************Random Forest********************\n",
      "             precision    recall  f1-score   support\n",
      "\n",
      "          0       1.00      0.60      0.75         5\n",
      "          1       0.69      1.00      0.81        11\n",
      "          2       1.00      0.83      0.91        24\n",
      "          3       0.92      1.00      0.96        12\n",
      "\n",
      "avg / total       0.92      0.88      0.89        52\n",
      "\n"
     ]
    }
   ],
   "source": [
    "print(\"*\"*20+'Logistic Regression'+\"*\"*20)\n",
    "print(cr_log)\n",
    "\n",
    "print(\"*\"*20+'K Nearest Neighbor'+\"*\"*20)\n",
    "print(cr_knn)\n",
    "\n",
    "print(\"*\"*20+'Support Vector Machine'+\"*\"*20)\n",
    "print(cr_svm)\n",
    "\n",
    "print(\"*\"*20+'Decision tree'+\"*\"*20)\n",
    "print(cr_dt)\n",
    "\n",
    "print(\"*\"*20+'Random Forest'+\"*\"*20)\n",
    "print(cr_rf)"
   ]
  },
  {
   "cell_type": "code",
   "execution_count": null,
   "metadata": {},
   "outputs": [],
   "source": []
  }
 ],
 "metadata": {
  "kernelspec": {
   "display_name": "Python 3",
   "language": "python",
   "name": "python3"
  },
  "language_info": {
   "codemirror_mode": {
    "name": "ipython",
    "version": 3
   },
   "file_extension": ".py",
   "mimetype": "text/x-python",
   "name": "python",
   "nbconvert_exporter": "python",
   "pygments_lexer": "ipython3",
   "version": "3.6.5"
  }
 },
 "nbformat": 4,
 "nbformat_minor": 2
}
